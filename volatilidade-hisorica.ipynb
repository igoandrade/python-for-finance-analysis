{
 "cells": [
  {
   "cell_type": "markdown",
   "metadata": {},
   "source": [
    "# Cálculo da volatilidade histórica com Python"
   ]
  },
  {
   "cell_type": "markdown",
   "metadata": {},
   "source": [
    "**Bibliotecas importadas**"
   ]
  },
  {
   "cell_type": "code",
   "execution_count": 4,
   "metadata": {},
   "outputs": [],
   "source": [
    "import pandas as pd\n",
    "import numpy as np \n",
    "import yfinance as yf\n",
    "import matplotlib.pyplot as plt \n",
    "plt.style.use('seaborn')"
   ]
  },
  {
   "cell_type": "markdown",
   "metadata": {},
   "source": [
    "## Obtenção dos dados"
   ]
  },
  {
   "cell_type": "markdown",
   "metadata": {},
   "source": [
    "De acordo com a [investopedia](https://www.investopedia.com/articles/investing/122215/spy-spdr-sp-500-trust-etf.asp):\n",
    "\n",
    "<cite>\n",
    "    \"O SPDR S&P 500 ETF Trust, também conhecido como SPY ETF, é um dos fundos mais populares que visa rastrear o Índice Standard & Poor's (S&P) 500 , que compreende 500 ações de grande capitalização dos EUA. Essas ações são selecionadas por um comitê com base no tamanho do mercado, liquidez e setor\".\n",
    "</cite>"
   ]
  },
  {
   "cell_type": "code",
   "execution_count": 7,
   "metadata": {},
   "outputs": [],
   "source": [
    "SPY = yf.download(\n",
    "    tickers=\"SPY\",\n",
    "    start=\"2016-01-01\",\n",
    "    end=\"2021-12-31\",\n",
    "    progress=False\n",
    ") "
   ]
  },
  {
   "cell_type": "code",
   "execution_count": 9,
   "metadata": {},
   "outputs": [
    {
     "data": {
      "text/html": [
       "<div>\n",
       "<style scoped>\n",
       "    .dataframe tbody tr th:only-of-type {\n",
       "        vertical-align: middle;\n",
       "    }\n",
       "\n",
       "    .dataframe tbody tr th {\n",
       "        vertical-align: top;\n",
       "    }\n",
       "\n",
       "    .dataframe thead th {\n",
       "        text-align: right;\n",
       "    }\n",
       "</style>\n",
       "<table border=\"1\" class=\"dataframe\">\n",
       "  <thead>\n",
       "    <tr style=\"text-align: right;\">\n",
       "      <th></th>\n",
       "      <th>Open</th>\n",
       "      <th>High</th>\n",
       "      <th>Low</th>\n",
       "      <th>Close</th>\n",
       "      <th>Adj Close</th>\n",
       "      <th>Volume</th>\n",
       "    </tr>\n",
       "    <tr>\n",
       "      <th>Date</th>\n",
       "      <th></th>\n",
       "      <th></th>\n",
       "      <th></th>\n",
       "      <th></th>\n",
       "      <th></th>\n",
       "      <th></th>\n",
       "    </tr>\n",
       "  </thead>\n",
       "  <tbody>\n",
       "    <tr>\n",
       "      <th>2016-01-04</th>\n",
       "      <td>200.490005</td>\n",
       "      <td>201.029999</td>\n",
       "      <td>198.589996</td>\n",
       "      <td>201.020004</td>\n",
       "      <td>179.554993</td>\n",
       "      <td>222353500</td>\n",
       "    </tr>\n",
       "    <tr>\n",
       "      <th>2016-01-05</th>\n",
       "      <td>201.399994</td>\n",
       "      <td>201.899994</td>\n",
       "      <td>200.050003</td>\n",
       "      <td>201.360001</td>\n",
       "      <td>179.858658</td>\n",
       "      <td>110845800</td>\n",
       "    </tr>\n",
       "    <tr>\n",
       "      <th>2016-01-06</th>\n",
       "      <td>198.339996</td>\n",
       "      <td>200.059998</td>\n",
       "      <td>197.600006</td>\n",
       "      <td>198.820007</td>\n",
       "      <td>177.589905</td>\n",
       "      <td>152112600</td>\n",
       "    </tr>\n",
       "  </tbody>\n",
       "</table>\n",
       "</div>"
      ],
      "text/plain": [
       "                  Open        High         Low       Close   Adj Close  \\\n",
       "Date                                                                     \n",
       "2016-01-04  200.490005  201.029999  198.589996  201.020004  179.554993   \n",
       "2016-01-05  201.399994  201.899994  200.050003  201.360001  179.858658   \n",
       "2016-01-06  198.339996  200.059998  197.600006  198.820007  177.589905   \n",
       "\n",
       "               Volume  \n",
       "Date                   \n",
       "2016-01-04  222353500  \n",
       "2016-01-05  110845800  \n",
       "2016-01-06  152112600  "
      ]
     },
     "execution_count": 9,
     "metadata": {},
     "output_type": "execute_result"
    }
   ],
   "source": [
    "SPY.head(3)"
   ]
  },
  {
   "cell_type": "code",
   "execution_count": 10,
   "metadata": {},
   "outputs": [
    {
     "data": {
      "text/html": [
       "<div>\n",
       "<style scoped>\n",
       "    .dataframe tbody tr th:only-of-type {\n",
       "        vertical-align: middle;\n",
       "    }\n",
       "\n",
       "    .dataframe tbody tr th {\n",
       "        vertical-align: top;\n",
       "    }\n",
       "\n",
       "    .dataframe thead th {\n",
       "        text-align: right;\n",
       "    }\n",
       "</style>\n",
       "<table border=\"1\" class=\"dataframe\">\n",
       "  <thead>\n",
       "    <tr style=\"text-align: right;\">\n",
       "      <th></th>\n",
       "      <th>Open</th>\n",
       "      <th>High</th>\n",
       "      <th>Low</th>\n",
       "      <th>Close</th>\n",
       "      <th>Adj Close</th>\n",
       "      <th>Volume</th>\n",
       "    </tr>\n",
       "    <tr>\n",
       "      <th>Date</th>\n",
       "      <th></th>\n",
       "      <th></th>\n",
       "      <th></th>\n",
       "      <th></th>\n",
       "      <th></th>\n",
       "      <th></th>\n",
       "    </tr>\n",
       "  </thead>\n",
       "  <tbody>\n",
       "    <tr>\n",
       "      <th>2021-12-28</th>\n",
       "      <td>477.720001</td>\n",
       "      <td>478.809998</td>\n",
       "      <td>476.059998</td>\n",
       "      <td>476.869995</td>\n",
       "      <td>475.393127</td>\n",
       "      <td>47274600</td>\n",
       "    </tr>\n",
       "    <tr>\n",
       "      <th>2021-12-29</th>\n",
       "      <td>476.980011</td>\n",
       "      <td>478.559998</td>\n",
       "      <td>475.920013</td>\n",
       "      <td>477.480011</td>\n",
       "      <td>476.001251</td>\n",
       "      <td>54503000</td>\n",
       "    </tr>\n",
       "    <tr>\n",
       "      <th>2021-12-30</th>\n",
       "      <td>477.929993</td>\n",
       "      <td>479.000000</td>\n",
       "      <td>475.670013</td>\n",
       "      <td>476.160004</td>\n",
       "      <td>474.685333</td>\n",
       "      <td>55329000</td>\n",
       "    </tr>\n",
       "  </tbody>\n",
       "</table>\n",
       "</div>"
      ],
      "text/plain": [
       "                  Open        High         Low       Close   Adj Close  \\\n",
       "Date                                                                     \n",
       "2021-12-28  477.720001  478.809998  476.059998  476.869995  475.393127   \n",
       "2021-12-29  476.980011  478.559998  475.920013  477.480011  476.001251   \n",
       "2021-12-30  477.929993  479.000000  475.670013  476.160004  474.685333   \n",
       "\n",
       "              Volume  \n",
       "Date                  \n",
       "2021-12-28  47274600  \n",
       "2021-12-29  54503000  \n",
       "2021-12-30  55329000  "
      ]
     },
     "execution_count": 10,
     "metadata": {},
     "output_type": "execute_result"
    }
   ],
   "source": [
    "SPY.tail(3)"
   ]
  },
  {
   "cell_type": "markdown",
   "metadata": {},
   "source": [
    "## Cálculo do retorno simples"
   ]
  },
  {
   "cell_type": "code",
   "execution_count": 12,
   "metadata": {},
   "outputs": [
    {
     "data": {
      "text/html": [
       "<div>\n",
       "<style scoped>\n",
       "    .dataframe tbody tr th:only-of-type {\n",
       "        vertical-align: middle;\n",
       "    }\n",
       "\n",
       "    .dataframe tbody tr th {\n",
       "        vertical-align: top;\n",
       "    }\n",
       "\n",
       "    .dataframe thead th {\n",
       "        text-align: right;\n",
       "    }\n",
       "</style>\n",
       "<table border=\"1\" class=\"dataframe\">\n",
       "  <thead>\n",
       "    <tr style=\"text-align: right;\">\n",
       "      <th></th>\n",
       "      <th>Open</th>\n",
       "      <th>High</th>\n",
       "      <th>Low</th>\n",
       "      <th>Close</th>\n",
       "      <th>Adj Close</th>\n",
       "      <th>Volume</th>\n",
       "      <th>simple_returns</th>\n",
       "    </tr>\n",
       "    <tr>\n",
       "      <th>Date</th>\n",
       "      <th></th>\n",
       "      <th></th>\n",
       "      <th></th>\n",
       "      <th></th>\n",
       "      <th></th>\n",
       "      <th></th>\n",
       "      <th></th>\n",
       "    </tr>\n",
       "  </thead>\n",
       "  <tbody>\n",
       "    <tr>\n",
       "      <th>2016-01-04</th>\n",
       "      <td>200.490005</td>\n",
       "      <td>201.029999</td>\n",
       "      <td>198.589996</td>\n",
       "      <td>201.020004</td>\n",
       "      <td>179.554993</td>\n",
       "      <td>222353500</td>\n",
       "      <td>NaN</td>\n",
       "    </tr>\n",
       "    <tr>\n",
       "      <th>2016-01-05</th>\n",
       "      <td>201.399994</td>\n",
       "      <td>201.899994</td>\n",
       "      <td>200.050003</td>\n",
       "      <td>201.360001</td>\n",
       "      <td>179.858658</td>\n",
       "      <td>110845800</td>\n",
       "      <td>0.001691</td>\n",
       "    </tr>\n",
       "    <tr>\n",
       "      <th>2016-01-06</th>\n",
       "      <td>198.339996</td>\n",
       "      <td>200.059998</td>\n",
       "      <td>197.600006</td>\n",
       "      <td>198.820007</td>\n",
       "      <td>177.589905</td>\n",
       "      <td>152112600</td>\n",
       "      <td>-0.012614</td>\n",
       "    </tr>\n",
       "    <tr>\n",
       "      <th>2016-01-07</th>\n",
       "      <td>195.330002</td>\n",
       "      <td>197.440002</td>\n",
       "      <td>193.589996</td>\n",
       "      <td>194.050003</td>\n",
       "      <td>173.329224</td>\n",
       "      <td>213436100</td>\n",
       "      <td>-0.023992</td>\n",
       "    </tr>\n",
       "    <tr>\n",
       "      <th>2016-01-08</th>\n",
       "      <td>195.190002</td>\n",
       "      <td>195.850006</td>\n",
       "      <td>191.580002</td>\n",
       "      <td>191.919998</td>\n",
       "      <td>171.426666</td>\n",
       "      <td>209817200</td>\n",
       "      <td>-0.010977</td>\n",
       "    </tr>\n",
       "  </tbody>\n",
       "</table>\n",
       "</div>"
      ],
      "text/plain": [
       "                  Open        High         Low       Close   Adj Close  \\\n",
       "Date                                                                     \n",
       "2016-01-04  200.490005  201.029999  198.589996  201.020004  179.554993   \n",
       "2016-01-05  201.399994  201.899994  200.050003  201.360001  179.858658   \n",
       "2016-01-06  198.339996  200.059998  197.600006  198.820007  177.589905   \n",
       "2016-01-07  195.330002  197.440002  193.589996  194.050003  173.329224   \n",
       "2016-01-08  195.190002  195.850006  191.580002  191.919998  171.426666   \n",
       "\n",
       "               Volume  simple_returns  \n",
       "Date                                   \n",
       "2016-01-04  222353500             NaN  \n",
       "2016-01-05  110845800        0.001691  \n",
       "2016-01-06  152112600       -0.012614  \n",
       "2016-01-07  213436100       -0.023992  \n",
       "2016-01-08  209817200       -0.010977  "
      ]
     },
     "execution_count": 12,
     "metadata": {},
     "output_type": "execute_result"
    }
   ],
   "source": [
    "SPY['simple_returns'] = SPY['Adj Close'].pct_change()\n",
    "SPY.head()"
   ]
  },
  {
   "cell_type": "markdown",
   "metadata": {},
   "source": [
    "## Volatilidade histórica de 22 dias "
   ]
  },
  {
   "cell_type": "code",
   "execution_count": 13,
   "metadata": {},
   "outputs": [
    {
     "data": {
      "text/html": [
       "<div>\n",
       "<style scoped>\n",
       "    .dataframe tbody tr th:only-of-type {\n",
       "        vertical-align: middle;\n",
       "    }\n",
       "\n",
       "    .dataframe tbody tr th {\n",
       "        vertical-align: top;\n",
       "    }\n",
       "\n",
       "    .dataframe thead th {\n",
       "        text-align: right;\n",
       "    }\n",
       "</style>\n",
       "<table border=\"1\" class=\"dataframe\">\n",
       "  <thead>\n",
       "    <tr style=\"text-align: right;\">\n",
       "      <th></th>\n",
       "      <th>Open</th>\n",
       "      <th>High</th>\n",
       "      <th>Low</th>\n",
       "      <th>Close</th>\n",
       "      <th>Adj Close</th>\n",
       "      <th>Volume</th>\n",
       "      <th>simple_returns</th>\n",
       "      <th>volatility</th>\n",
       "    </tr>\n",
       "    <tr>\n",
       "      <th>Date</th>\n",
       "      <th></th>\n",
       "      <th></th>\n",
       "      <th></th>\n",
       "      <th></th>\n",
       "      <th></th>\n",
       "      <th></th>\n",
       "      <th></th>\n",
       "      <th></th>\n",
       "    </tr>\n",
       "  </thead>\n",
       "  <tbody>\n",
       "    <tr>\n",
       "      <th>2021-12-23</th>\n",
       "      <td>468.750000</td>\n",
       "      <td>472.190002</td>\n",
       "      <td>468.640015</td>\n",
       "      <td>470.600006</td>\n",
       "      <td>469.142548</td>\n",
       "      <td>56439700</td>\n",
       "      <td>0.006222</td>\n",
       "      <td>0.012536</td>\n",
       "    </tr>\n",
       "    <tr>\n",
       "      <th>2021-12-27</th>\n",
       "      <td>472.059998</td>\n",
       "      <td>477.309998</td>\n",
       "      <td>472.010010</td>\n",
       "      <td>477.260010</td>\n",
       "      <td>475.781921</td>\n",
       "      <td>56808600</td>\n",
       "      <td>0.014152</td>\n",
       "      <td>0.012869</td>\n",
       "    </tr>\n",
       "    <tr>\n",
       "      <th>2021-12-28</th>\n",
       "      <td>477.720001</td>\n",
       "      <td>478.809998</td>\n",
       "      <td>476.059998</td>\n",
       "      <td>476.869995</td>\n",
       "      <td>475.393127</td>\n",
       "      <td>47274600</td>\n",
       "      <td>-0.000817</td>\n",
       "      <td>0.012870</td>\n",
       "    </tr>\n",
       "    <tr>\n",
       "      <th>2021-12-29</th>\n",
       "      <td>476.980011</td>\n",
       "      <td>478.559998</td>\n",
       "      <td>475.920013</td>\n",
       "      <td>477.480011</td>\n",
       "      <td>476.001251</td>\n",
       "      <td>54503000</td>\n",
       "      <td>0.001279</td>\n",
       "      <td>0.011777</td>\n",
       "    </tr>\n",
       "    <tr>\n",
       "      <th>2021-12-30</th>\n",
       "      <td>477.929993</td>\n",
       "      <td>479.000000</td>\n",
       "      <td>475.670013</td>\n",
       "      <td>476.160004</td>\n",
       "      <td>474.685333</td>\n",
       "      <td>55329000</td>\n",
       "      <td>-0.002765</td>\n",
       "      <td>0.011589</td>\n",
       "    </tr>\n",
       "  </tbody>\n",
       "</table>\n",
       "</div>"
      ],
      "text/plain": [
       "                  Open        High         Low       Close   Adj Close  \\\n",
       "Date                                                                     \n",
       "2021-12-23  468.750000  472.190002  468.640015  470.600006  469.142548   \n",
       "2021-12-27  472.059998  477.309998  472.010010  477.260010  475.781921   \n",
       "2021-12-28  477.720001  478.809998  476.059998  476.869995  475.393127   \n",
       "2021-12-29  476.980011  478.559998  475.920013  477.480011  476.001251   \n",
       "2021-12-30  477.929993  479.000000  475.670013  476.160004  474.685333   \n",
       "\n",
       "              Volume  simple_returns  volatility  \n",
       "Date                                              \n",
       "2021-12-23  56439700        0.006222    0.012536  \n",
       "2021-12-27  56808600        0.014152    0.012869  \n",
       "2021-12-28  47274600       -0.000817    0.012870  \n",
       "2021-12-29  54503000        0.001279    0.011777  \n",
       "2021-12-30  55329000       -0.002765    0.011589  "
      ]
     },
     "execution_count": 13,
     "metadata": {},
     "output_type": "execute_result"
    }
   ],
   "source": [
    "SPY['volatility'] = SPY['simple_returns'].rolling(22).std()\n",
    "SPY.tail()"
   ]
  },
  {
   "cell_type": "code",
   "execution_count": 19,
   "metadata": {},
   "outputs": [
    {
     "data": {
      "image/png": "[encoded data removed]",
      "text/plain": [
       "<Figure size 720x432 with 1 Axes>"
      ]
     },
     "metadata": {
      "needs_background": "light"
     },
     "output_type": "display_data"
    }
   ],
   "source": [
    "fig, ax = plt.subplots(figsize=(10,6))\n",
    "SPY['simple_returns'].plot(lw=.5, ax = ax)\n",
    "ax.set_xlabel('Data')\n",
    "ax.set_ylabel('Retorno')\n",
    "ax.set_title('Retorno simples do fundo de ações SPY de 2016 a 2021')\n",
    "plt.show()"
   ]
  },
  {
   "cell_type": "code",
   "execution_count": 20,
   "metadata": {},
   "outputs": [
    {
     "data": {
      "image/png": "[encoded data removed]",
      "text/plain": [
       "<Figure size 720x432 with 1 Axes>"
      ]
     },
     "metadata": {
      "needs_background": "light"
     },
     "output_type": "display_data"
    }
   ],
   "source": [
    "fig, ax = plt.subplots(figsize=(10,6))\n",
    "SPY['volatility'].plot(lw=.5, ax = ax)\n",
    "ax.set_xlabel('Data')\n",
    "ax.set_ylabel('Volatilidade')\n",
    "ax.set_title('Volatilidade do fundo de ações SPY de 2016 a 2021')\n",
    "plt.show()"
   ]
  },
  {
   "cell_type": "code",
   "execution_count": 28,
   "metadata": {},
   "outputs": [
    {
     "name": "stdout",
     "output_type": "stream",
     "text": [
      "Volatilidade média pré-pandemia: 0.0085\n",
      "Volatilidade média pandemia: 0.0122\n"
     ]
    }
   ],
   "source": [
    "vol_pre_pandemia = SPY['2018-01-01':'2019-12-31']['volatility'].mean()\n",
    "vol_pandemia = SPY['2020-01-01':]['volatility'].mean()\n",
    "print(f\"Volatilidade média pré-pandemia: {vol_pre_pandemia:.4f}\")\n",
    "print(f\"Volatilidade média pandemia: {vol_pandemia:.4f}\")"
   ]
  },
  {
   "cell_type": "code",
   "execution_count": 31,
   "metadata": {},
   "outputs": [
    {
     "name": "stdout",
     "output_type": "stream",
     "text": [
      "Ano  Volatilidade\n",
      "2016       0.0074\n",
      "2017       0.0042\n",
      "2018       0.0090\n",
      "2019       0.0080\n",
      "2020       0.0165\n",
      "2021       0.0078\n"
     ]
    }
   ],
   "source": [
    "print(f\"{'Ano':4s} {'Volatilidade':>12s}\")\n",
    "for year in range(2016, 2022):\n",
    "    vol = SPY[f'{year}-01-01':f'{year}-12-31']['volatility'].mean()\n",
    "    print(f\"{year:4d} {vol:12.4f}\")"
   ]
  },
  {
   "cell_type": "markdown",
   "metadata": {},
   "source": []
  }
 ],
 "metadata": {
  "kernelspec": {
   "display_name": "Python 3.8.13 64-bit ('3.8.13')",
   "language": "python",
   "name": "python3"
  },
  "language_info": {
   "codemirror_mode": {
    "name": "ipython",
    "version": 3
   },
   "file_extension": ".py",
   "mimetype": "text/x-python",
   "name": "python",
   "nbconvert_exporter": "python",
   "pygments_lexer": "ipython3",
   "version": "3.8.13"
  },
  "orig_nbformat": 4,
  "vscode": {
   "interpreter": {
    "hash": "110cc1dee26208153f2972f08a2ad52b6a56238dc66d48e87fb757ef2996db56"
   }
  }
 },
 "nbformat": 4,
 "nbformat_minor": 2
}
